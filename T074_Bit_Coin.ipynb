{
 "cells": [
  {
   "cell_type": "markdown",
   "metadata": {
    "tags": [
     "s1",
     "content"
    ]
   },
   "source": [
    "\n",
    "## Bit Coin Price Analysis\n",
    "                \n",
    "### Objective\n",
    "Historic price of bitcoins are provided for analysis. Your task is to\n",
    "\n",
    "1. Ingest the data into a format that is easy for analysis.\n",
    "2. Perform Exploratory Data Analysis on the dataset.\n",
    "3. Can you predict the future price of the dataset?\n",
    "Excercise: Create a variable sample_data and store your dataframe sample into that\n",
    "\n"
   ]
  },
  {
   "cell_type": "code",
   "execution_count": null,
   "metadata": {
    "has_completed": true,
    "tags": [
     "s1",
     "ce"
    ]
   },
   "outputs": [],
   "source": [
    "#initial_code, the code written here will be shown to user, write here initial setup to help user get started.\n",
    "\n",
    "import pandas as pd\n",
    "import numpy as np\n",
    "\n",
    "bit_coin = pd.read_csv(\"https://raw.githubusercontent.com/colaberry/data/master/Bitcoin/bitcoin_dataset.csv\")\n",
    "\n",
    "#Write code print the output\n"
   ]
  },
  {
   "cell_type": "markdown",
   "metadata": {
    "tags": [
     "s1",
     "hint"
    ]
   },
   "source": [
    "use head() method\n",
    "\n"
   ]
  },
  {
   "cell_type": "code",
   "execution_count": null,
   "metadata": {
    "collapsed": true,
    "tags": [
     "s1",
     "ans"
    ]
   },
   "outputs": [],
   "source": [
    "#answer, write code which is a solution for above question.\n",
    "sample_data = bit_coin.head()"
   ]
  },
  {
   "cell_type": "code",
   "execution_count": null,
   "metadata": {
    "tags": [
     "s1",
     "hid"
    ]
   },
   "outputs": [],
   "source": [
    "#this is assertion block which verifies the solution.\n",
    "\n",
    "try:\n",
    "    def verify_answer():\n",
    "        \"\"\"\n",
    "        enter your verification code here.\n",
    "        return true if your checks pass\n",
    "        eg: \n",
    "        if above_user_answer_var > 100: \n",
    "            return True\n",
    "        else:\n",
    "            return False\n",
    "        \"\"\"\n",
    "        if len(sample_data)>0:\n",
    "            return True\n",
    "        return False\n",
    "    ref_assert_var = verify_answer()\n",
    "except Exception as e:\n",
    "    print('Your assertion block throws error: ' + str(e))\n",
    "else:\n",
    "    if ref_assert_var:\n",
    "        print('continue')\n",
    "    else:\n",
    "        print('The answer did not pass the test.')"
   ]
  },
  {
   "cell_type": "markdown",
   "metadata": {
    "tags": [
     "s2",
     "content"
    ]
   },
   "source": [
    "\n",
    "\n",
    "## Scatter plots or JOin plots using seaborn\n",
    "                \n",
    "            \n",
    "To visualize the  each factor which can affect the bit coin price, we can plot scatter plots of the target element and independent variable\n",
    "\n",
    "\n",
    "Excercise: jointplot btc_market_price vs btc_trade_volume"
   ]
  },
  {
   "cell_type": "code",
   "execution_count": null,
   "metadata": {
    "tags": [
     "s2",
     "ce"
    ]
   },
   "outputs": [],
   "source": [
    "import seaborn as sns\n",
    "#run below code\n",
    "\n",
    "g = sns.jointplot(x='btc_market_cap',y='btc_market_price',data=bit_coin,size=7,color='r')\n",
    "\n",
    "#modify above code to make plot btc_trade_volume\n",
    "print(type(type(g)))"
   ]
  },
  {
   "cell_type": "markdown",
   "metadata": {
    "tags": [
     "s2",
     "hint"
    ]
   },
   "source": [
    "change x  = btc_trade_volume"
   ]
  },
  {
   "cell_type": "code",
   "execution_count": null,
   "metadata": {
    "tags": [
     "s2",
     "ans"
    ]
   },
   "outputs": [],
   "source": [
    "#answer, write code which is a solution for above question.\n",
    "g = sns.jointplot(x='btc_trade_volume',y='btc_market_price',data=bit_coin,size=7,color='r')"
   ]
  },
  {
   "cell_type": "code",
   "execution_count": null,
   "metadata": {
    "collapsed": true,
    "tags": [
     "s2",
     "hid"
    ]
   },
   "outputs": [],
   "source": [
    "#this is assertion block which verifies the solution.\n",
    "\n",
    "try:\n",
    "    def verify_answer():\n",
    "        \"\"\"\n",
    "        enter your verification code here.\n",
    "        return true if your checks pass\n",
    "        eg: \n",
    "        if above_user_answer_var > 100: \n",
    "            return True\n",
    "        else:\n",
    "            return False\n",
    "        \"\"\"\n",
    "        if (type(g)==sns.axisgrid.JointGrid):\n",
    "            return True\n",
    "        return False\n",
    "\n",
    "    ref_assert_var = verify_answer()\n",
    "except Exception as e:\n",
    "    print('Your assertion block throws error: ' + str(e))\n",
    "else:\n",
    "    if ref_assert_var:\n",
    "        print('continue')\n",
    "    else:\n",
    "        print('The answer did not pass the test.')"
   ]
  },
  {
   "cell_type": "markdown",
   "metadata": {
    "tags": [
     "s3",
     "content"
    ]
   },
   "source": [
    "\n",
    "\n",
    "## Mean Squared Error\n",
    "                \n",
    "            \n",
    "Excercise : Pint mean squared error and stored in the variable mse_lm\n"
   ]
  },
  {
   "cell_type": "code",
   "execution_count": null,
   "metadata": {
    "tags": [
     "s3",
     "ce"
    ]
   },
   "outputs": [],
   "source": [
    "import statsmodels.formula.api as sm\n",
    "from sklearn.metrics import mean_squared_error\n",
    "lm = sm.ols(formula='btc_market_price ~ btc_market_cap', data=bit_coin).fit()\n",
    "\n",
    "y_hat = lm.predict(bit_coin[['btc_market_cap']])\n",
    "\n"
   ]
  },
  {
   "cell_type": "markdown",
   "metadata": {
    "tags": [
     "s3",
     "hint"
    ]
   },
   "source": [
    "use mean_squared_method\n"
   ]
  },
  {
   "cell_type": "code",
   "execution_count": null,
   "metadata": {
    "tags": [
     "s3",
     "ans"
    ]
   },
   "outputs": [],
   "source": [
    "#answer, write code which is a solution for above question.\n",
    "mse_lm = mean_squared_error(bit_coin['btc_market_price'].values, y_hat)\n",
    "#print(\"MSE:\", mse_lm)\n",
    "print(type(mse_lm))\n",
    "lm.summary()"
   ]
  },
  {
   "cell_type": "code",
   "execution_count": null,
   "metadata": {
    "tags": [
     "s3",
     "hid"
    ]
   },
   "outputs": [],
   "source": [
    "#this is assertion block which verifies the solution.\n",
    "\n",
    "try:\n",
    "    def verify_answer():\n",
    "        \"\"\"\n",
    "        enter your verification code here.\n",
    "        return true if your checks pass\n",
    "        eg: \n",
    "        if above_user_answer_var > 100: \n",
    "            return True\n",
    "        else:\n",
    "            return False\n",
    "        \"\"\"\n",
    "        if(type(mse_lm)==np.float64):\n",
    "            return True\n",
    "        return False\n",
    "\n",
    "    ref_assert_var = verify_answer()\n",
    "except Exception as e:\n",
    "    print('Your assertion block throws error: ' + str(e))\n",
    "else:\n",
    "    if ref_assert_var:\n",
    "        print('continue')\n",
    "    else:\n",
    "        print('The answer did not pass the test.')"
   ]
  },
  {
   "cell_type": "markdown",
   "metadata": {
    "tags": [
     "s4",
     "content"
    ]
   },
   "source": [
    "\n",
    "\n",
    "## Finding Collinearity\n",
    "\n",
    "            \n",
    "Plot heat map to find collinearity and assign it to the variable g\n"
   ]
  },
  {
   "cell_type": "code",
   "execution_count": null,
   "metadata": {
    "tags": [
     "s4",
     "ce"
    ]
   },
   "outputs": [],
   "source": [
    "correlations = bit_coin.corr()\n",
    "correlations\n",
    "import matplotlib.pyplot as plt\n",
    "plt.subplots(figsize=(20,15))\n"
   ]
  },
  {
   "cell_type": "markdown",
   "metadata": {
    "tags": [
     "s4",
     "hint"
    ]
   },
   "source": [
    "use heatmap"
   ]
  },
  {
   "cell_type": "code",
   "execution_count": 45,
   "metadata": {
    "tags": [
     "s4",
     "ans"
    ]
   },
   "outputs": [
    {
     "data": {
      "text/plain": [
       "matplotlib.axes._subplots.AxesSubplot"
      ]
     },
     "execution_count": 45,
     "metadata": {},
     "output_type": "execute_result"
    }
   ],
   "source": [
    "#answer, write code which is a solution for above question.\n",
    "g = sns.heatmap(correlations, annot=True, linewidths=.5)\n"
   ]
  }
 ],
 "metadata": {
  "executed_sections": [],
  "kernelspec": {
   "display_name": "Python 3",
   "language": "python",
   "name": "python3"
  },
  "language_info": {
   "codemirror_mode": {
    "name": "ipython",
    "version": 3
   },
   "file_extension": ".py",
   "mimetype": "text/x-python",
   "name": "python",
   "nbconvert_exporter": "python",
   "pygments_lexer": "ipython3",
   "version": "3.5.2"
  }
 },
 "nbformat": 4,
 "nbformat_minor": 2
}